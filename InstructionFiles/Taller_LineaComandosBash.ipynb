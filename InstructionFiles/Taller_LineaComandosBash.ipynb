{
 "cells": [
  {
   "cell_type": "markdown",
   "metadata": {
    "id": "a8xrw-8IpyMf"
   },
   "source": [
    "# Taller Unidad 1. Linea de Comando en linux\n",
    "# Javier C. Alvarez\n",
    "\n",
    "En un notebook de Colab responder los siguientes ejercicios. Puedes trabajar en tu propia terminal o en la terminal de google."
   ]
  },
  {
   "cell_type": "markdown",
   "metadata": {
    "id": "-JUxtQqFqIDo"
   },
   "source": [
    "## Ejercicio 1. Navegación y Visualización de Archivos\n",
    "* Crea una nueva carpeta llamada Taller_linux en tu directorio personal. <br>\n",
    "* Muévete hasta la nueva carpeta. <br>\n",
    "* Crea un archivo de texto llamado nuecleotidos.txt y añade las líneas de una secuencia de nucleótidos de un gen de interés. <br>\n",
    "Puedes consultarlo en el NCBI y usar echo para añadir texto o abrir un editor como nano o vim para pegar el texto.<br>\n",
    "* Visualiza el contenido del archivo utilizando cat.<br>"
   ]
  },
  {
   "cell_type": "markdown",
   "metadata": {
    "id": "z7Md8bvtrOSq"
   },
   "source": [
    "## Ejercicio 2. Edición y manipulación de texto plano\n",
    "\n",
    "* Remplaza las T por U en el archivo txt creado .  <br>\n",
    "* Usando una función en Pyhton o Bash, rescatar en un archivo de salida llamado (tripletas.txt), la lista de tripletas que representaría los codones de la proteína derivada. <br>\n",
    "* Ordena alfabéticamente el contenido del archivo y guarda el resultado en un nuevo archivo llamado tripletas_sorted.txt <br>\n",
    "* Visualiza el archivo generado. <br>\n"
   ]
  },
  {
   "cell_type": "markdown",
   "metadata": {
    "id": "YDZYqQDltTj1"
   },
   "source": [
    "## Ejercicio 3. Generación de resultados\n",
    "* Con la lista de tripletas creadas y sorteadas, un científico de datos desea saber la frecuencia con la que se genera cada tripleta en la proteína e identificar cual es la tripléta que más se repite y cual es la menos frecuente <br>\n",
    "* Con las frecuencias estimadas, realizar un histograma de frecuencias para las tripletas encontradas <br>\n",
    "* Finalmente el investigador desea saber el porcentaje de G y C en la secuencia completa de nucleótidos y ver cuantos sitos de corte tiene la enzima BamHI."
   ]
  }
 ],
 "metadata": {
  "colab": {
   "provenance": []
  },
  "kernelspec": {
   "display_name": "Python 3 (ipykernel)",
   "language": "python",
   "name": "python3"
  },
  "language_info": {
   "codemirror_mode": {
    "name": "ipython",
    "version": 3
   },
   "file_extension": ".py",
   "mimetype": "text/x-python",
   "name": "python",
   "nbconvert_exporter": "python",
   "pygments_lexer": "ipython3",
   "version": "3.12.9"
  }
 },
 "nbformat": 4,
 "nbformat_minor": 4
}
