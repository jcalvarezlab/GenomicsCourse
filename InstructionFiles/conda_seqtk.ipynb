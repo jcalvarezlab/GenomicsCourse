{
  "nbformat": 4,
  "nbformat_minor": 0,
  "metadata": {
    "colab": {
      "provenance": []
    },
    "kernelspec": {
      "name": "python3",
      "display_name": "Python 3"
    },
    "language_info": {
      "name": "python"
    }
  },
  "cells": [
    {
      "cell_type": "markdown",
      "source": [
        "## Clase de intro. Programación\n",
        "# Linux avanzado"
      ],
      "metadata": {
        "id": "v4YbGFb5_6oR"
      }
    },
    {
      "cell_type": "markdown",
      "source": [
        "# SSH Command in Linux\n",
        "Conexión remota al servidor"
      ],
      "metadata": {
        "id": "knQbcLM7pjXc"
      }
    },
    {
      "cell_type": "markdown",
      "source": [
        "# SCP copia de archivos remotos\n",
        "scp host folder:direccionaboluta"
      ],
      "metadata": {
        "id": "qkQQvV-K44Gt"
      }
    },
    {
      "cell_type": "code",
      "source": [
        "from google.colab import drive\n",
        "drive.mount('/content/drive')"
      ],
      "metadata": {
        "id": "TN62lYAnHNZZ"
      },
      "execution_count": null,
      "outputs": []
    },
    {
      "cell_type": "code",
      "source": [
        "!ssh hostname command"
      ],
      "metadata": {
        "id": "po-lRaNmpp1i"
      },
      "execution_count": null,
      "outputs": []
    },
    {
      "cell_type": "markdown",
      "source": [
        "1- Subir el archivo fasta designado a la carpeta de trabajo <br>\n",
        "2- Cuente cuantas secuencias hay en el archivo <br>\n",
        "3- Con el comando \"sed\" adicione un espacio antes del | del ID <br>\n",
        "4- Cuente cuantas proteinas hay por cromosoma de Arabidopsis <br>\n",
        "5- Rescate e un archivo TXT los IDs indicados por el profesor <br>"
      ],
      "metadata": {
        "id": "XHRqU3JB9aBf"
      }
    },
    {
      "cell_type": "code",
      "source": [
        "!cat /content/sample_data/Athaliana_167_protein_primaryTranscriptOnly.fa | head -n 20"
      ],
      "metadata": {
        "colab": {
          "base_uri": "https://localhost:8080/"
        },
        "id": "Tso0FRJVNFRt",
        "outputId": "f51037a7-1633-4189-f697-74bf7b057dd8"
      },
      "execution_count": null,
      "outputs": [
        {
          "output_type": "stream",
          "name": "stdout",
          "text": [
            ">ATCG00500.1|PACid:19637947\n",
            "MEKSWFNFMFSKGELEYRGELSKAMDSFAPGEKTTISQDRFIYDMDKNFYGWDERSSYSSSYSNNVDLLVSSKDIRNFIS\n",
            "DDTFFVRDSNKNSYSIFFDKKKKIFEIDNDFSDLEKFFYSYCSSSYLNNRSKGDNDLHYDPYIKDTKYNCTNHINSCIDS\n",
            "YFRSYICIDNNFLIDSNNFNESYIYNFICSESGKIRESKNYKIRTNRNRSNLISSKDFDITQNYNQLWIQCDNCYGLMYK\n",
            "KVKMNVCEQCGHYLKMSSSERIELSIDPGTWNPMDEDMVSADPIKFHSKEEPYKNRIDSAQKTTGLTDAVQTGTGQLNGI\n",
            "PVALGVMDFRFMGGSMGSVVGEKITRLIEYATNQCLPLILVCSSGGARMQEGSLSLMQMAKISSVLCDYQSSKKLFYISI\n",
            "LTSPTTGGVTASFGMLGDIIIAEPYAYIAFAGKRVIEQTLKKAVPEGSQAAESLLRKGLLDAIVPRNLLKGVLSELFQLH\n",
            "AFFPLNTN*\n",
            ">ATCG00510.1|PACid:19637948\n",
            "MTTFNNLPSIFVPLVGLVFPAIAMASLFLHIQKNKIF*\n",
            ">ATCG00280.1|PACid:19637949\n",
            "MKTLYSLRRFYHVETLFNGTLALAGRDQETTGFAWWAGNARLINLSGKLLGAHVAHAGLIVFWAGAMNLFEVAHFVPEKP\n",
            "MYEQGLILLPHLATLGWGVGPGGEVIDTFPYFVSGVLHLISSAVLGFGGIYHALLGPETLEESFPFFGYVWKDRNKMTTI\n",
            "LGIHLILLGVGAFLLVFKALYFGGVYDTWAPGGGDVRKITNLTLSPSVIFGYLLKSPFGGEGWIVSVDDLEDIIGGHVWL\n",
            "GSICIFGGIWHILTKPFAWARRALVWSGEAYLSYSLAALSVCGFIACCFVWFNNTAYPSEFYGPTGPEASQAQAFTFLVR\n",
            "DQRLGANVGSAQGPTGLGKYLMRSPTGEVIFGGETMRFWDLRAPWLEPLRGPNGLDLSRLKKDIQPWQERRSAEYMTHAP\n",
            "LGSLNSVGGVATEINAVNYVSPRSWLSTSHFVLGFFLFVGHLWHAGRARAAAAGFEKGIDRDFEPVLSMTPLN*\n",
            ">ATCG00890.1|PACid:19637950\n",
            "MAITEFLLFILTATLGGMFLCGANDLITIFVAPECFSLCSYLLSGYTKKDIRSNEATMKYLLMGGASSSILVHGFSWLYG\n",
            "SSGGEIELQEIVNGLINTQMYNSPGISIALIFITVGIGFKLSLAPSHQWTPDVYEGSPTPVVAFLSVTSKVAASASATRI\n"
          ]
        }
      ]
    },
    {
      "cell_type": "code",
      "source": [
        "!cat /content/sample_data/Athaliana_167_protein_primaryTranscriptOnly.fa | grep -c \"*\""
      ],
      "metadata": {
        "colab": {
          "base_uri": "https://localhost:8080/"
        },
        "id": "DveXIb5GO0ZN",
        "outputId": "b5782b5d-ef65-4ba0-faf1-b03022f86bca"
      },
      "execution_count": null,
      "outputs": [
        {
          "output_type": "stream",
          "name": "stdout",
          "text": [
            "27416\n"
          ]
        }
      ]
    },
    {
      "cell_type": "markdown",
      "source": [
        "# Installing Conda from https://saturncloud.io/blog/how-to-install-conda-package-to-google-colab/"
      ],
      "metadata": {
        "id": "8DSQwXGGdHUH"
      }
    },
    {
      "cell_type": "code",
      "execution_count": null,
      "metadata": {
        "id": "xrtswP-aSdOj",
        "colab": {
          "base_uri": "https://localhost:8080/"
        },
        "outputId": "e59cb2cd-14da-46a3-a5a5-9b3be30e9a8b"
      },
      "outputs": [
        {
          "output_type": "stream",
          "name": "stdout",
          "text": [
            "⏬ Downloading https://github.com/jaimergp/miniforge/releases/download/24.11.2-1_colab/Miniforge3-colab-24.11.2-1_colab-Linux-x86_64.sh...\n",
            "📦 Installing...\n",
            "📌 Adjusting configuration...\n",
            "🩹 Patching environment...\n",
            "⏲ Done in 0:00:20\n",
            "🔁 Restarting kernel...\n"
          ]
        }
      ],
      "source": [
        "!pip install -q condacolab\n",
        "import condacolab\n",
        "condacolab.install()"
      ]
    },
    {
      "cell_type": "markdown",
      "source": [],
      "metadata": {
        "id": "hgDdsiWtc3ch"
      }
    },
    {
      "cell_type": "code",
      "source": [
        "!conda --version"
      ],
      "metadata": {
        "colab": {
          "base_uri": "https://localhost:8080/"
        },
        "outputId": "cb921aad-4938-4944-d22d-8313320edaa6",
        "id": "7T2xS_Vrc4R2"
      },
      "execution_count": null,
      "outputs": [
        {
          "output_type": "stream",
          "name": "stdout",
          "text": [
            "conda 24.11.2\n"
          ]
        }
      ]
    },
    {
      "cell_type": "markdown",
      "source": [
        "Installing Seqtk from conda/mamba https://bioconda.github.io/recipes/seqtk/README.html"
      ],
      "metadata": {
        "id": "1bGK2hhVc4R4"
      }
    },
    {
      "cell_type": "code",
      "source": [
        "!conda init"
      ],
      "metadata": {
        "colab": {
          "base_uri": "https://localhost:8080/"
        },
        "outputId": "cfaca8bd-f543-452b-8cfd-d146e8457f5a",
        "id": "0PLeTapec4R5"
      },
      "execution_count": null,
      "outputs": [
        {
          "output_type": "stream",
          "name": "stdout",
          "text": [
            "no change     /usr/local/condabin/conda\n",
            "no change     /usr/local/bin/conda\n",
            "no change     /usr/local/bin/conda-env\n",
            "no change     /usr/local/bin/activate\n",
            "no change     /usr/local/bin/deactivate\n",
            "no change     /usr/local/etc/profile.d/conda.sh\n",
            "no change     /usr/local/etc/fish/conf.d/conda.fish\n",
            "no change     /usr/local/shell/condabin/Conda.psm1\n",
            "no change     /usr/local/shell/condabin/conda-hook.ps1\n",
            "no change     /usr/local/lib/python3.11/site-packages/xontrib/conda.xsh\n",
            "no change     /usr/local/etc/profile.d/conda.csh\n",
            "modified      /root/.bashrc\n",
            "\n",
            "==> For changes to take effect, close and re-open your current shell. <==\n",
            "\n"
          ]
        }
      ]
    },
    {
      "cell_type": "code",
      "source": [
        "!conda install bioconda::fusioncatcher-seqtk"
      ],
      "metadata": {
        "colab": {
          "base_uri": "https://localhost:8080/"
        },
        "outputId": "98fdde96-e16b-4da9-ddd2-c317699c2c8d",
        "id": "mIYzAOK5c4R7"
      },
      "execution_count": null,
      "outputs": [
        {
          "output_type": "stream",
          "name": "stdout",
          "text": [
            "Channels:\n",
            " - conda-forge\n",
            " - bioconda\n",
            "Platform: linux-64\n",
            "Collecting package metadata (repodata.json): - \b\b\\ \b\b| \b\b/ \b\b- \b\b\\ \b\b| \b\b/ \b\b- \b\b\\ \b\b| \b\b/ \b\b- \b\b\\ \b\b| \b\b/ \b\b- \b\b\\ \b\b| \b\b/ \b\b- \b\b\\ \b\b| \b\b/ \b\b- \b\b\\ \b\b| \b\b/ \b\b- \b\b\\ \b\b| \b\b/ \b\b- \b\b\\ \b\b| \b\b/ \b\b- \b\b\\ \b\b| \b\b/ \b\b- \b\b\\ \b\b| \b\b/ \b\b- \b\b\\ \b\b| \b\b/ \b\b- \b\b\\ \b\b| \b\b/ \b\b- \b\b\\ \b\b| \b\b/ \b\b- \b\b\\ \b\b| \b\b/ \b\b- \b\b\\ \b\b| \b\b/ \b\b- \b\b\\ \b\b| \b\b/ \b\b- \b\b\\ \b\b| \b\b/ \b\b- \b\b\\ \b\b| \b\bdone\n",
            "Solving environment: - \b\b\\ \b\b| \b\bdone\n",
            "\n",
            "## Package Plan ##\n",
            "\n",
            "  environment location: /usr/local\n",
            "\n",
            "  added / updated specs:\n",
            "    - bioconda::fusioncatcher-seqtk\n",
            "\n",
            "\n",
            "The following packages will be downloaded:\n",
            "\n",
            "    package                    |            build\n",
            "    ---------------------------|-----------------\n",
            "    ca-certificates-2025.1.31  |       hbcca054_0         154 KB  conda-forge\n",
            "    conda-24.11.3              |  py311h38be061_0         1.1 MB  conda-forge\n",
            "    fusioncatcher-seqtk-1.2    |       h577a1d6_6         109 KB  bioconda\n",
            "    openssl-3.4.1              |       h7b32b05_0         2.8 MB  conda-forge\n",
            "    zlib-1.3.1                 |       hb9d3cd8_2          90 KB  conda-forge\n",
            "    ------------------------------------------------------------\n",
            "                                           Total:         4.3 MB\n",
            "\n",
            "The following NEW packages will be INSTALLED:\n",
            "\n",
            "  fusioncatcher-seq~ bioconda/linux-64::fusioncatcher-seqtk-1.2-h577a1d6_6 \n",
            "  zlib               conda-forge/linux-64::zlib-1.3.1-hb9d3cd8_2 \n",
            "\n",
            "The following packages will be UPDATED:\n",
            "\n",
            "  ca-certificates                     2024.12.14-hbcca054_0 --> 2025.1.31-hbcca054_0 \n",
            "  conda                             24.11.2-py311h38be061_1 --> 24.11.3-py311h38be061_0 \n",
            "  openssl                                  3.4.0-h7b32b05_1 --> 3.4.1-h7b32b05_0 \n",
            "\n",
            "\n",
            "\n",
            "Downloading and Extracting Packages:\n",
            "openssl-3.4.1        | 2.8 MB    | :   0% 0/1 [00:00<?, ?it/s]\n",
            "conda-24.11.3        | 1.1 MB    | :   0% 0/1 [00:00<?, ?it/s]\u001b[A\n",
            "\n",
            "ca-certificates-2025 | 154 KB    | :   0% 0/1 [00:00<?, ?it/s]\u001b[A\u001b[A\n",
            "\n",
            "\n",
            "fusioncatcher-seqtk- | 109 KB    | :   0% 0/1 [00:00<?, ?it/s]\u001b[A\u001b[A\u001b[A\n",
            "\n",
            "\n",
            "\n",
            "zlib-1.3.1           | 90 KB     | :   0% 0/1 [00:00<?, ?it/s]\u001b[A\u001b[A\u001b[A\u001b[A\n",
            "\n",
            "\n",
            "\n",
            "zlib-1.3.1           | 90 KB     | :  18% 0.17753505407104003/1 [00:00<00:00,  1.55it/s]\u001b[A\u001b[A\u001b[A\u001b[A\n",
            "\n",
            "ca-certificates-2025 | 154 KB    | :  10% 0.10360178065560502/1 [00:00<00:01,  1.24s/it]\u001b[A\u001b[A\n",
            "\n",
            "\n",
            "\n",
            "zlib-1.3.1           | 90 KB     | : 100% 1.0/1 [00:00<00:00,  1.55it/s]                \u001b[A\u001b[A\u001b[A\u001b[A\n",
            "\n",
            "\n",
            "\n",
            "zlib-1.3.1           | 90 KB     | : 100% 1.0/1 [00:00<00:00,  1.55it/s]\u001b[A\u001b[A\u001b[A\u001b[A\n",
            "\n",
            "ca-certificates-2025 | 154 KB    | : 100% 1.0/1 [00:00<00:00,  1.24s/it]                \u001b[A\u001b[A\n",
            "conda-24.11.3        | 1.1 MB    | :   1% 0.01364371451460054/1 [00:00<00:12, 12.56s/it]\u001b[A\n",
            "\n",
            "openssl-3.4.1        | 2.8 MB    | :   1% 0.0055741049077571376/1 [00:00<00:40, 40.65s/it]\n",
            "openssl-3.4.1        | 2.8 MB    | :  83% 0.8305416312558135/1 [00:00<00:00,  3.20it/s]   \n",
            "\n",
            "\n",
            "fusioncatcher-seqtk- | 109 KB    | :  15% 0.1467653223928194/1 [00:00<00:01,  2.21s/it]\u001b[A\u001b[A\u001b[A\n",
            "\n",
            "\n",
            "openssl-3.4.1        | 2.8 MB    | : 100% 1.0/1 [00:00<00:00,  3.20it/s]               \n",
            "\n",
            "\n",
            "fusioncatcher-seqtk- | 109 KB    | : 100% 1.0/1 [00:00<00:00,  2.21s/it]\u001b[A\u001b[A\u001b[A\n",
            "conda-24.11.3        | 1.1 MB    | : 100% 1.0/1 [00:00<00:00,  1.76it/s]\u001b[A\n",
            "                                                                        \n",
            "                                                                        \u001b[A\n",
            "\n",
            "                                                                        \u001b[A\u001b[A\n",
            "\n",
            "\n",
            "                                                                        \u001b[A\u001b[A\u001b[A\n",
            "\n",
            "\n",
            "\n",
            "                                                                        \u001b[A\u001b[A\u001b[A\u001b[A\n",
            "Preparing transaction: - \b\bdone\n",
            "Verifying transaction: | \b\b/ \b\bdone\n",
            "Executing transaction: \\ \b\bdone\n"
          ]
        }
      ]
    },
    {
      "cell_type": "code",
      "source": [
        "!sort -k2,1 -k11g /content/drive/MyDrive/NAC_UFL/DataSet/Blastp/Gnmo.1_0.pep.fa.blastp | awk '!a[$2]++' > /content/drive/MyDrive/NAC_UFL/DataSet/Blastp/Gnmo_unique_NAC.blastp"
      ],
      "metadata": {
        "id": "BbErxN7LSdJz"
      },
      "execution_count": null,
      "outputs": []
    },
    {
      "cell_type": "code",
      "source": [
        "!seqtk subseq archivo.fas IDs.txt > sub.fasta"
      ],
      "metadata": {
        "id": "2kVmNHaEofzN"
      },
      "execution_count": null,
      "outputs": []
    }
  ]
}